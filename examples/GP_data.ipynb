{
 "cells": [
  {
   "cell_type": "code",
   "execution_count": 1,
   "id": "9f32ed95",
   "metadata": {},
   "outputs": [
    {
     "name": "stderr",
     "output_type": "stream",
     "text": [
      "┌ Info: Precompiling GaussianProcess [03743745-d558-4e78-88be-b659dc33ea21]\n",
      "└ @ Base loading.jl:1423\n",
      "WARNING: Method definition Type##kw(Any, Type{Base.MPFR.BigFloat}, Base.Irrational{:sqrt3}) in module StatsFuns at irrationals.jl:182 overwritten in module IrrationalConstants on the same line (check for duplicate calls to `include`).\n",
      "  ** incremental compilation may be fatally broken for this module **\n",
      "\n",
      "WARNING: Method definition Type##kw(Any, Type{Base.MPFR.BigFloat}, Base.Irrational{:invsqrt2π}) in module StatsFuns at irrationals.jl:182 overwritten in module IrrationalConstants on the same line (check for duplicate calls to `include`).\n",
      "  ** incremental compilation may be fatally broken for this module **\n",
      "\n",
      "WARNING: Method definition Type##kw(Any, Type{Base.MPFR.BigFloat}, Base.Irrational{:inv4π}) in module StatsFuns at irrationals.jl:182 overwritten in module IrrationalConstants on the same line (check for duplicate calls to `include`).\n",
      "  ** incremental compilation may be fatally broken for this module **\n",
      "\n",
      "WARNING: Method definition Type##kw(Any, Type{Base.MPFR.BigFloat}, Base.Irrational{:fourπ}) in module StatsFuns at irrationals.jl:182 overwritten in module IrrationalConstants on the same line (check for duplicate calls to `include`).\n",
      "  ** incremental compilation may be fatally broken for this module **\n",
      "\n",
      "WARNING: Method definition Type##kw(Any, Type{Base.MPFR.BigFloat}, Base.Irrational{:invπ}) in module StatsFuns at irrationals.jl:182 overwritten in module IrrationalConstants on the same line (check for duplicate calls to `include`).\n",
      "  ** incremental compilation may be fatally broken for this module **\n",
      "\n",
      "WARNING: Method definition Type##kw(Any, Type{Base.MPFR.BigFloat}, Base.Irrational{:sqrt4π}) in module StatsFuns at irrationals.jl:182 overwritten in module IrrationalConstants on the same line (check for duplicate calls to `include`).\n",
      "  ** incremental compilation may be fatally broken for this module **\n",
      "\n",
      "WARNING: Method definition Type##kw(Any, Type{Base.MPFR.BigFloat}, Base.Irrational{:invsqrt2}) in module StatsFuns at irrationals.jl:182 overwritten in module IrrationalConstants on the same line (check for duplicate calls to `include`).\n",
      "  ** incremental compilation may be fatally broken for this module **\n",
      "\n",
      "WARNING: Method definition Type##kw(Any, Type{Base.MPFR.BigFloat}, Base.Irrational{:sqrt2}) in module StatsFuns at irrationals.jl:182 overwritten in module IrrationalConstants on the same line (check for duplicate calls to `include`).\n",
      "  ** incremental compilation may be fatally broken for this module **\n",
      "\n",
      "WARNING: Method definition Type##kw(Any, Type{Base.MPFR.BigFloat}, Base.Irrational{:log2π}) in module StatsFuns at irrationals.jl:182 overwritten in module IrrationalConstants on the same line (check for duplicate calls to `include`).\n",
      "  ** incremental compilation may be fatally broken for this module **\n",
      "\n",
      "WARNING: Method definition Type##kw(Any, Type{Base.MPFR.BigFloat}, Base.Irrational{:log4π}) in module StatsFuns at irrationals.jl:182 overwritten in module IrrationalConstants on the same line (check for duplicate calls to `include`).\n",
      "  ** incremental compilation may be fatally broken for this module **\n",
      "\n",
      "WARNING: Method definition Type##kw(Any, Type{Base.MPFR.BigFloat}, Base.Irrational{:twoinvπ}) in module StatsFuns at irrationals.jl:182 overwritten in module IrrationalConstants on the same line (check for duplicate calls to `include`).\n",
      "  ** incremental compilation may be fatally broken for this module **\n",
      "\n",
      "WARNING: Method definition Type##kw(Any, Type{Base.MPFR.BigFloat}, Base.Irrational{:halfπ}) in module StatsFuns at irrationals.jl:182 overwritten in module IrrationalConstants on the same line (check for duplicate calls to `include`).\n",
      "  ** incremental compilation may be fatally broken for this module **\n",
      "\n",
      "WARNING: Method definition Type##kw(Any, Type{Base.MPFR.BigFloat}, Base.Irrational{:inv2π}) in module StatsFuns at irrationals.jl:182 overwritten in module IrrationalConstants on the same line (check for duplicate calls to `include`).\n",
      "  ** incremental compilation may be fatally broken for this module **\n",
      "\n",
      "WARNING: Method definition Type##kw(Any, Type{Base.MPFR.BigFloat}, Base.Irrational{:logtwo}) in module StatsFuns at irrationals.jl:182 overwritten in module IrrationalConstants at irrationals.jl:175.\n",
      "  ** incremental compilation may be fatally broken for this module **\n",
      "\n",
      "WARNING: Method definition Type##kw(Any, Type{Base.MPFR.BigFloat}, Base.Irrational{:sqrthalfπ}) in module StatsFuns at irrationals.jl:182 overwritten in module IrrationalConstants on the same line (check for duplicate calls to `include`).\n",
      "  ** incremental compilation may be fatally broken for this module **\n",
      "\n",
      "WARNING: Method definition Type##kw(Any, Type{Base.MPFR.BigFloat}, Base.Irrational{:sqrt2π}) in module StatsFuns at irrationals.jl:182 overwritten in module IrrationalConstants on the same line (check for duplicate calls to `include`).\n",
      "  ** incremental compilation may be fatally broken for this module **\n",
      "\n",
      "WARNING: Method definition Type##kw(Any, Type{Base.MPFR.BigFloat}, Base.Irrational{:fourinvπ}) in module StatsFuns at irrationals.jl:182 overwritten in module IrrationalConstants on the same line (check for duplicate calls to `include`).\n",
      "  ** incremental compilation may be fatally broken for this module **\n",
      "\n",
      "WARNING: Method definition Type##kw(Any, Type{Base.MPFR.BigFloat}, Base.Irrational{:sqrtπ}) in module StatsFuns at irrationals.jl:182 overwritten in module IrrationalConstants on the same line (check for duplicate calls to `include`).\n",
      "  ** incremental compilation may be fatally broken for this module **\n",
      "\n",
      "WARNING: Method definition Type##kw(Any, Type{Base.MPFR.BigFloat}, Base.Irrational{:loghalf}) in module StatsFuns at irrationals.jl:182 overwritten in module IrrationalConstants on the same line (check for duplicate calls to `include`).\n",
      "  ** incremental compilation may be fatally broken for this module **\n",
      "\n",
      "WARNING: Method definition Type##kw(Any, Type{Base.MPFR.BigFloat}, Base.Irrational{:quartπ}) in module StatsFuns at irrationals.jl:182 overwritten in module IrrationalConstants on the same line (check for duplicate calls to `include`).\n",
      "  ** incremental compilation may be fatally broken for this module **\n",
      "\n",
      "WARNING: Method definition Type##kw(Any, Type{Base.MPFR.BigFloat}, Base.Irrational{:logπ}) in module StatsFuns at irrationals.jl:182 overwritten in module IrrationalConstants on the same line (check for duplicate calls to `include`).\n",
      "  ** incremental compilation may be fatally broken for this module **\n",
      "\n",
      "WARNING: Method definition Type##kw(Any, Type{Base.MPFR.BigFloat}, Base.Irrational{:twoπ}) in module StatsFuns at irrationals.jl:182 overwritten in module IrrationalConstants on the same line (check for duplicate calls to `include`).\n",
      "  ** incremental compilation may be fatally broken for this module **\n",
      "\n",
      "WARNING: Method definition (::Type{Float32})(Base.Irrational{:sqrt3}) in module StatsFuns at irrationals.jl:192 overwritten in module IrrationalConstants on the same line (check for duplicate calls to `include`).\n",
      "  ** incremental compilation may be fatally broken for this module **\n",
      "\n",
      "WARNING: Method definition (::Type{Float32})(Base.Irrational{:invπ}) in module StatsFuns at irrationals.jl:192 overwritten in module IrrationalConstants on the same line (check for duplicate calls to `include`).\n",
      "  ** incremental compilation may be fatally broken for this module **\n",
      "\n",
      "WARNING: Method definition (::Type{Float32})(Base.Irrational{:sqrt4π}) in module StatsFuns at irrationals.jl:192 overwritten in module IrrationalConstants on the same line (check for duplicate calls to `include`).\n",
      "  ** incremental compilation may be fatally broken for this module **\n",
      "\n",
      "WARNING: Method definition (::Type{Float32})(Base.Irrational{:invsqrt2}) in module StatsFuns at irrationals.jl:192 overwritten in module IrrationalConstants on the same line (check for duplicate calls to `include`).\n",
      "  ** incremental compilation may be fatally broken for this module **\n",
      "\n",
      "WARNING: Method definition (::Type{Float32})(Base.Irrational{:log2π}) in module StatsFuns at irrationals.jl:192 overwritten in module IrrationalConstants on the same line (check for duplicate calls to `include`).\n",
      "  ** incremental compilation may be fatally broken for this module **\n",
      "\n",
      "WARNING: Method definition (::Type{Float32})(Base.Irrational{:twoinvπ}) in module StatsFuns at irrationals.jl:192 overwritten in module IrrationalConstants on the same line (check for duplicate calls to `include`).\n",
      "  ** incremental compilation may be fatally broken for this module **\n",
      "\n",
      "WARNING: Method definition (::Type{Float32})(Base.Irrational{:sqrtπ}) in module StatsFuns at irrationals.jl:192 overwritten in module IrrationalConstants on the same line (check for duplicate calls to `include`).\n",
      "  ** incremental compilation may be fatally broken for this module **\n",
      "\n",
      "WARNING: Method definition (::Type{Float32})(Base.Irrational{:loghalf}) in module StatsFuns at irrationals.jl:192 overwritten in module IrrationalConstants on the same line (check for duplicate calls to `include`).\n",
      "  ** incremental compilation may be fatally broken for this module **\n",
      "\n",
      "WARNING: Method definition (::Type{Float32})(Base.Irrational{:logπ}) in module StatsFuns at irrationals.jl:192 overwritten in module IrrationalConstants on the same line (check for duplicate calls to `include`).\n",
      "  ** incremental compilation may be fatally broken for this module **\n",
      "\n",
      "WARNING: Method definition (::Type{Float32})(Base.Irrational{:inv4π}) in module StatsFuns at irrationals.jl:192 overwritten in module IrrationalConstants on the same line (check for duplicate calls to `include`).\n",
      "  ** incremental compilation may be fatally broken for this module **\n",
      "\n",
      "WARNING: Method definition (::Type{Float32})(Base.Irrational{:fourπ}) in module StatsFuns at irrationals.jl:192 overwritten in module IrrationalConstants on the same line (check for duplicate calls to `include`).\n",
      "  ** incremental compilation may be fatally broken for this module **\n",
      "\n",
      "WARNING: Method definition (::Type{Float32})(Base.Irrational{:sqrt2}) in module StatsFuns at irrationals.jl:192 overwritten in module IrrationalConstants on the same line (check for duplicate calls to `include`).\n",
      "  ** incremental compilation may be fatally broken for this module **\n",
      "\n"
     ]
    },
    {
     "name": "stderr",
     "output_type": "stream",
     "text": [
      "WARNING: Method definition (::Type{Float32})(Base.Irrational{:log4π}) in module StatsFuns at irrationals.jl:192 overwritten in module IrrationalConstants on the same line (check for duplicate calls to `include`).\n",
      "  ** incremental compilation may be fatally broken for this module **\n",
      "\n",
      "WARNING: Method definition (::Type{Float32})(Base.Irrational{:halfπ}) in module StatsFuns at irrationals.jl:192 overwritten in module IrrationalConstants on the same line (check for duplicate calls to `include`).\n",
      "  ** incremental compilation may be fatally broken for this module **\n",
      "\n",
      "WARNING: Method definition (::Type{Float32})(Base.Irrational{:inv2π}) in module StatsFuns at irrationals.jl:192 overwritten in module IrrationalConstants on the same line (check for duplicate calls to `include`).\n",
      "  ** incremental compilation may be fatally broken for this module **\n",
      "\n",
      "WARNING: Method definition (::Type{Float32})(Base.Irrational{:logtwo}) in module StatsFuns at irrationals.jl:192 overwritten in module IrrationalConstants on the same line (check for duplicate calls to `include`).\n",
      "  ** incremental compilation may be fatally broken for this module **\n",
      "\n",
      "WARNING: Method definition (::Type{Float32})(Base.Irrational{:sqrthalfπ}) in module StatsFuns at irrationals.jl:192 overwritten in module IrrationalConstants on the same line (check for duplicate calls to `include`).\n",
      "  ** incremental compilation may be fatally broken for this module **\n",
      "\n",
      "WARNING: Method definition (::Type{Float32})(Base.Irrational{:sqrt2π}) in module StatsFuns at irrationals.jl:192 overwritten in module IrrationalConstants on the same line (check for duplicate calls to `include`).\n",
      "  ** incremental compilation may be fatally broken for this module **\n",
      "\n",
      "WARNING: Method definition (::Type{Float32})(Base.Irrational{:fourinvπ}) in module StatsFuns at irrationals.jl:192 overwritten in module IrrationalConstants on the same line (check for duplicate calls to `include`).\n",
      "  ** incremental compilation may be fatally broken for this module **\n",
      "\n",
      "WARNING: Method definition (::Type{Float32})(Base.Irrational{:quartπ}) in module StatsFuns at irrationals.jl:192 overwritten in module IrrationalConstants on the same line (check for duplicate calls to `include`).\n",
      "  ** incremental compilation may be fatally broken for this module **\n",
      "\n",
      "WARNING: Method definition (::Type{Float32})(Base.Irrational{:twoπ}) in module StatsFuns at irrationals.jl:192 overwritten in module IrrationalConstants on the same line (check for duplicate calls to `include`).\n",
      "  ** incremental compilation may be fatally broken for this module **\n",
      "\n",
      "WARNING: Method definition (::Type{Float32})(Base.Irrational{:invsqrt2π}) in module StatsFuns at irrationals.jl:192 overwritten in module IrrationalConstants on the same line (check for duplicate calls to `include`).\n",
      "  ** incremental compilation may be fatally broken for this module **\n",
      "\n",
      "WARNING: Method definition (::Type{Base.MPFR.BigFloat})(Base.Irrational{:sqrt3}) in module StatsFuns at irrationals.jl:182 overwritten in module IrrationalConstants on the same line (check for duplicate calls to `include`).\n",
      "  ** incremental compilation may be fatally broken for this module **\n",
      "\n",
      "WARNING: Method definition (::Type{Base.MPFR.BigFloat})(Base.Irrational{:invsqrt2π}) in module StatsFuns at irrationals.jl:182 overwritten in module IrrationalConstants on the same line (check for duplicate calls to `include`).\n",
      "  ** incremental compilation may be fatally broken for this module **\n",
      "\n",
      "WARNING: Method definition (::Type{Base.MPFR.BigFloat})(Base.Irrational{:inv4π}) in module StatsFuns at irrationals.jl:182 overwritten in module IrrationalConstants on the same line (check for duplicate calls to `include`).\n",
      "  ** incremental compilation may be fatally broken for this module **\n",
      "\n",
      "WARNING: Method definition (::Type{Base.MPFR.BigFloat})(Base.Irrational{:fourπ}) in module StatsFuns at irrationals.jl:182 overwritten in module IrrationalConstants on the same line (check for duplicate calls to `include`).\n",
      "  ** incremental compilation may be fatally broken for this module **\n",
      "\n",
      "WARNING: Method definition (::Type{Base.MPFR.BigFloat})(Base.Irrational{:invπ}) in module StatsFuns at irrationals.jl:182 overwritten in module IrrationalConstants on the same line (check for duplicate calls to `include`).\n",
      "  ** incremental compilation may be fatally broken for this module **\n",
      "\n",
      "WARNING: Method definition (::Type{Base.MPFR.BigFloat})(Base.Irrational{:sqrt4π}) in module StatsFuns at irrationals.jl:182 overwritten in module IrrationalConstants on the same line (check for duplicate calls to `include`).\n",
      "  ** incremental compilation may be fatally broken for this module **\n",
      "\n",
      "WARNING: Method definition (::Type{Base.MPFR.BigFloat})(Base.Irrational{:invsqrt2}) in module StatsFuns at irrationals.jl:182 overwritten in module IrrationalConstants on the same line (check for duplicate calls to `include`).\n",
      "  ** incremental compilation may be fatally broken for this module **\n",
      "\n",
      "WARNING: Method definition (::Type{Base.MPFR.BigFloat})(Base.Irrational{:sqrt2}) in module StatsFuns at irrationals.jl:182 overwritten in module IrrationalConstants on the same line (check for duplicate calls to `include`).\n",
      "  ** incremental compilation may be fatally broken for this module **\n",
      "\n",
      "WARNING: Method definition (::Type{Base.MPFR.BigFloat})(Base.Irrational{:log2π}) in module StatsFuns at irrationals.jl:182 overwritten in module IrrationalConstants on the same line (check for duplicate calls to `include`).\n",
      "  ** incremental compilation may be fatally broken for this module **\n",
      "\n",
      "WARNING: Method definition (::Type{Base.MPFR.BigFloat})(Base.Irrational{:log4π}) in module StatsFuns at irrationals.jl:182 overwritten in module IrrationalConstants on the same line (check for duplicate calls to `include`).\n",
      "  ** incremental compilation may be fatally broken for this module **\n",
      "\n",
      "WARNING: Method definition (::Type{Base.MPFR.BigFloat})(Base.Irrational{:twoinvπ}) in module StatsFuns at irrationals.jl:182 overwritten in module IrrationalConstants on the same line (check for duplicate calls to `include`).\n",
      "  ** incremental compilation may be fatally broken for this module **\n",
      "\n",
      "WARNING: Method definition (::Type{Base.MPFR.BigFloat})(Base.Irrational{:halfπ}) in module StatsFuns at irrationals.jl:182 overwritten in module IrrationalConstants on the same line (check for duplicate calls to `include`).\n",
      "  ** incremental compilation may be fatally broken for this module **\n",
      "\n",
      "WARNING: Method definition (::Type{Base.MPFR.BigFloat})(Base.Irrational{:inv2π}) in module StatsFuns at irrationals.jl:182 overwritten in module IrrationalConstants on the same line (check for duplicate calls to `include`).\n",
      "  ** incremental compilation may be fatally broken for this module **\n",
      "\n",
      "WARNING: Method definition (::Type{Base.MPFR.BigFloat})(Base.Irrational{:logtwo}) in module StatsFuns at irrationals.jl:182 overwritten in module IrrationalConstants at irrationals.jl:175.\n",
      "  ** incremental compilation may be fatally broken for this module **\n",
      "\n",
      "WARNING: Method definition (::Type{Base.MPFR.BigFloat})(Base.Irrational{:sqrthalfπ}) in module StatsFuns at irrationals.jl:182 overwritten in module IrrationalConstants on the same line (check for duplicate calls to `include`).\n",
      "  ** incremental compilation may be fatally broken for this module **\n",
      "\n",
      "WARNING: Method definition (::Type{Base.MPFR.BigFloat})(Base.Irrational{:sqrt2π}) in module StatsFuns at irrationals.jl:182 overwritten in module IrrationalConstants on the same line (check for duplicate calls to `include`).\n",
      "  ** incremental compilation may be fatally broken for this module **\n",
      "\n",
      "WARNING: Method definition (::Type{Base.MPFR.BigFloat})(Base.Irrational{:fourinvπ}) in module StatsFuns at irrationals.jl:182 overwritten in module IrrationalConstants on the same line (check for duplicate calls to `include`).\n",
      "  ** incremental compilation may be fatally broken for this module **\n",
      "\n",
      "WARNING: Method definition (::Type{Base.MPFR.BigFloat})(Base.Irrational{:sqrtπ}) in module StatsFuns at irrationals.jl:182 overwritten in module IrrationalConstants on the same line (check for duplicate calls to `include`).\n",
      "  ** incremental compilation may be fatally broken for this module **\n",
      "\n",
      "WARNING: Method definition (::Type{Base.MPFR.BigFloat})(Base.Irrational{:loghalf}) in module StatsFuns at irrationals.jl:182 overwritten in module IrrationalConstants on the same line (check for duplicate calls to `include`).\n",
      "  ** incremental compilation may be fatally broken for this module **\n",
      "\n",
      "WARNING: Method definition (::Type{Base.MPFR.BigFloat})(Base.Irrational{:quartπ}) in module StatsFuns at irrationals.jl:182 overwritten in module IrrationalConstants on the same line (check for duplicate calls to `include`).\n",
      "  ** incremental compilation may be fatally broken for this module **\n",
      "\n",
      "WARNING: Method definition (::Type{Base.MPFR.BigFloat})(Base.Irrational{:logπ}) in module StatsFuns at irrationals.jl:182 overwritten in module IrrationalConstants on the same line (check for duplicate calls to `include`).\n",
      "  ** incremental compilation may be fatally broken for this module **\n",
      "\n",
      "WARNING: Method definition (::Type{Base.MPFR.BigFloat})(Base.Irrational{:twoπ}) in module StatsFuns at irrationals.jl:182 overwritten in module IrrationalConstants on the same line (check for duplicate calls to `include`).\n",
      "  ** incremental compilation may be fatally broken for this module **\n",
      "\n",
      "WARNING: Method definition (::Type{Float64})(Base.Irrational{:sqrt3}) in module StatsFuns at irrationals.jl:191 overwritten in module IrrationalConstants on the same line (check for duplicate calls to `include`).\n",
      "  ** incremental compilation may be fatally broken for this module **\n",
      "\n",
      "WARNING: Method definition (::Type{Float64})(Base.Irrational{:invπ}) in module StatsFuns at irrationals.jl:191 overwritten in module IrrationalConstants on the same line (check for duplicate calls to `include`).\n",
      "  ** incremental compilation may be fatally broken for this module **\n",
      "\n",
      "WARNING: Method definition (::Type{Float64})(Base.Irrational{:sqrt4π}) in module StatsFuns at irrationals.jl:191 overwritten in module IrrationalConstants on the same line (check for duplicate calls to `include`).\n",
      "  ** incremental compilation may be fatally broken for this module **\n",
      "\n"
     ]
    },
    {
     "name": "stderr",
     "output_type": "stream",
     "text": [
      "WARNING: Method definition (::Type{Float64})(Base.Irrational{:invsqrt2}) in module StatsFuns at irrationals.jl:191 overwritten in module IrrationalConstants on the same line (check for duplicate calls to `include`).\n",
      "  ** incremental compilation may be fatally broken for this module **\n",
      "\n",
      "WARNING: Method definition (::Type{Float64})(Base.Irrational{:log2π}) in module StatsFuns at irrationals.jl:191 overwritten in module IrrationalConstants on the same line (check for duplicate calls to `include`).\n",
      "  ** incremental compilation may be fatally broken for this module **\n",
      "\n",
      "WARNING: Method definition (::Type{Float64})(Base.Irrational{:twoinvπ}) in module StatsFuns at irrationals.jl:191 overwritten in module IrrationalConstants on the same line (check for duplicate calls to `include`).\n",
      "  ** incremental compilation may be fatally broken for this module **\n",
      "\n",
      "WARNING: Method definition (::Type{Float64})(Base.Irrational{:sqrtπ}) in module StatsFuns at irrationals.jl:191 overwritten in module IrrationalConstants on the same line (check for duplicate calls to `include`).\n",
      "  ** incremental compilation may be fatally broken for this module **\n",
      "\n",
      "WARNING: Method definition (::Type{Float64})(Base.Irrational{:loghalf}) in module StatsFuns at irrationals.jl:191 overwritten in module IrrationalConstants on the same line (check for duplicate calls to `include`).\n",
      "  ** incremental compilation may be fatally broken for this module **\n",
      "\n",
      "WARNING: Method definition (::Type{Float64})(Base.Irrational{:logπ}) in module StatsFuns at irrationals.jl:191 overwritten in module IrrationalConstants on the same line (check for duplicate calls to `include`).\n",
      "  ** incremental compilation may be fatally broken for this module **\n",
      "\n",
      "WARNING: Method definition (::Type{Float64})(Base.Irrational{:inv4π}) in module StatsFuns at irrationals.jl:191 overwritten in module IrrationalConstants on the same line (check for duplicate calls to `include`).\n",
      "  ** incremental compilation may be fatally broken for this module **\n",
      "\n",
      "WARNING: Method definition (::Type{Float64})(Base.Irrational{:fourπ}) in module StatsFuns at irrationals.jl:191 overwritten in module IrrationalConstants on the same line (check for duplicate calls to `include`).\n",
      "  ** incremental compilation may be fatally broken for this module **\n",
      "\n",
      "WARNING: Method definition (::Type{Float64})(Base.Irrational{:sqrt2}) in module StatsFuns at irrationals.jl:191 overwritten in module IrrationalConstants on the same line (check for duplicate calls to `include`).\n",
      "  ** incremental compilation may be fatally broken for this module **\n",
      "\n",
      "WARNING: Method definition (::Type{Float64})(Base.Irrational{:log4π}) in module StatsFuns at irrationals.jl:191 overwritten in module IrrationalConstants on the same line (check for duplicate calls to `include`).\n",
      "  ** incremental compilation may be fatally broken for this module **\n",
      "\n",
      "WARNING: Method definition (::Type{Float64})(Base.Irrational{:halfπ}) in module StatsFuns at irrationals.jl:191 overwritten in module IrrationalConstants on the same line (check for duplicate calls to `include`).\n",
      "  ** incremental compilation may be fatally broken for this module **\n",
      "\n",
      "WARNING: Method definition (::Type{Float64})(Base.Irrational{:inv2π}) in module StatsFuns at irrationals.jl:191 overwritten in module IrrationalConstants on the same line (check for duplicate calls to `include`).\n",
      "  ** incremental compilation may be fatally broken for this module **\n",
      "\n",
      "WARNING: Method definition (::Type{Float64})(Base.Irrational{:logtwo}) in module StatsFuns at irrationals.jl:191 overwritten in module IrrationalConstants on the same line (check for duplicate calls to `include`).\n",
      "  ** incremental compilation may be fatally broken for this module **\n",
      "\n",
      "WARNING: Method definition (::Type{Float64})(Base.Irrational{:sqrthalfπ}) in module StatsFuns at irrationals.jl:191 overwritten in module IrrationalConstants on the same line (check for duplicate calls to `include`).\n",
      "  ** incremental compilation may be fatally broken for this module **\n",
      "\n",
      "WARNING: Method definition (::Type{Float64})(Base.Irrational{:sqrt2π}) in module StatsFuns at irrationals.jl:191 overwritten in module IrrationalConstants on the same line (check for duplicate calls to `include`).\n",
      "  ** incremental compilation may be fatally broken for this module **\n",
      "\n",
      "WARNING: Method definition (::Type{Float64})(Base.Irrational{:fourinvπ}) in module StatsFuns at irrationals.jl:191 overwritten in module IrrationalConstants on the same line (check for duplicate calls to `include`).\n",
      "  ** incremental compilation may be fatally broken for this module **\n",
      "\n",
      "WARNING: Method definition (::Type{Float64})(Base.Irrational{:quartπ}) in module StatsFuns at irrationals.jl:191 overwritten in module IrrationalConstants on the same line (check for duplicate calls to `include`).\n",
      "  ** incremental compilation may be fatally broken for this module **\n",
      "\n",
      "WARNING: Method definition (::Type{Float64})(Base.Irrational{:twoπ}) in module StatsFuns at irrationals.jl:191 overwritten in module IrrationalConstants on the same line (check for duplicate calls to `include`).\n",
      "  ** incremental compilation may be fatally broken for this module **\n",
      "\n",
      "WARNING: Method definition (::Type{Float64})(Base.Irrational{:invsqrt2π}) in module StatsFuns at irrationals.jl:191 overwritten in module IrrationalConstants on the same line (check for duplicate calls to `include`).\n",
      "  ** incremental compilation may be fatally broken for this module **\n",
      "\n"
     ]
    }
   ],
   "source": [
    "using Turing\n",
    "using Distances\n",
    "using PyPlot\n",
    "using Random\n",
    "using LinearAlgebra\n",
    "using LimberJack\n",
    "using GaussianProcess"
   ]
  },
  {
   "cell_type": "code",
   "execution_count": 2,
   "id": "37f7b8d2",
   "metadata": {},
   "outputs": [
    {
     "data": {
      "text/plain": [
       "exp_cov_fn2 (generic function with 1 method)"
      ]
     },
     "execution_count": 2,
     "metadata": {},
     "output_type": "execute_result"
    }
   ],
   "source": [
    "# Squared-exponential covariance function\n",
    "function sqexp_cov_fn2(X, eta, l)\n",
    "    D = pairwise(Distances.Euclidean(), X, dims=1)\n",
    "    return @.(eta * exp(-D^2 / (2*l))) + 0.0005 * LinearAlgebra.I\n",
    "end \n",
    "\n",
    "# Exponential covariance function\n",
    "function exp_cov_fn2(X, eta, l)\n",
    "    D = pairwise(Distances.Euclidean(), X, dims=1)\n",
    "    return   @.(eta * exp(-D / l)) + 0.0005 * LinearAlgebra.I\n",
    "end"
   ]
  },
  {
   "cell_type": "code",
   "execution_count": 3,
   "id": "92e18056",
   "metadata": {},
   "outputs": [
    {
     "data": {
      "text/plain": [
       "marginal_GP (generic function with 1 method)"
      ]
     },
     "execution_count": 3,
     "metadata": {},
     "output_type": "execute_result"
    }
   ],
   "source": [
    "@model function marginal_GP(y, X; data_cov=data_cov, cosmology=Cosmology())\n",
    "    # Priors.\n",
    "    eta ~ Exponential(1)\n",
    "    l ~ Uniform(0.01, 3)\n",
    "    \n",
    "    # Realized covariance function\n",
    "    K = sqexp_cov_fn(X, eta, l) \n",
    "    mean = cosmology.Dz(vec(X))\n",
    "    y ~ marginal_lkl(mean, K; data_cov=data_cov)\n",
    "end"
   ]
  },
  {
   "cell_type": "code",
   "execution_count": 4,
   "id": "3c2c1692",
   "metadata": {},
   "outputs": [
    {
     "data": {
      "image/png": "[encoded data removed]",
      "text/plain": [
       "Figure(PyObject <Figure size 640x480 with 1 Axes>)"
      ]
     },
     "metadata": {},
     "output_type": "display_data"
    },
    {
     "data": {
      "text/plain": [
       "1-element Vector{PyCall.PyObject}:\n",
       " PyObject <matplotlib.lines.Line2D object at 0x7ffbdbe4d250>"
      ]
     },
     "execution_count": 4,
     "metadata": {},
     "output_type": "execute_result"
    }
   ],
   "source": [
    "cosmology = Cosmology()\n",
    "data_1_x = Vector(0:0.07:0.5)\n",
    "data_2_x = Vector(1.5:0.15:5)\n",
    "data_x = zeros(length(data_1_x)+length(data_2_x), 1)\n",
    "data_x[1:length(data_1_x), 1] = data_1_x\n",
    "data_x[length(data_1_x)+1:length(data_1_x)+length(data_2_x), 1] = data_2_x\n",
    "N = length(data_x)\n",
    "\n",
    "data = similar(vec(data_x))\n",
    "data[1:length(data_1_x), 1] = cosmology.Dz(vec(data_1_x)) .* (1 .+ randn(length(data_1_x)) .* 0.03)\n",
    "data[length(data_1_x)+1:length(data_1_x)+length(data_2_x), 1] = cosmology.Dz(vec(data_2_x)) .* (1 .+ 0.5 .* (sin.(vec(data_2_x)./0.5) + randn(length(data_2_x)) * 0.1))\n",
    "#data = cosmology.Dz(vec(data_x)) .* (1 .+ 0.5 .* (sin.(vec(data_x)./0.5) + randn(N) * 0.1))\n",
    "data_err = vec(@.((0.02 * data) + (0.03 * vec(data_x))))\n",
    "plt.errorbar(vec(data_x), data, yerr=data_err, fmt=\"bo\")\n",
    "gp_x = Vector(0:0.3:7)\n",
    "gp_N = length(gp_x)\n",
    "plt.plot(gp_x, cosmology.Dz(gp_x) .* ones(gp_N), \"k--\")"
   ]
  },
  {
   "cell_type": "code",
   "execution_count": 5,
   "id": "11ba24d3",
   "metadata": {},
   "outputs": [],
   "source": [
    "data_cov = zeros(N, N)\n",
    "for i in 1:N\n",
    "    data_cov[i,i] = data_err[i]^2 \n",
    "end"
   ]
  },
  {
   "cell_type": "code",
   "execution_count": 6,
   "id": "36b8e2a5",
   "metadata": {},
   "outputs": [
    {
     "name": "stderr",
     "output_type": "stream",
     "text": [
      "\u001b[32mSampling: 100%|█████████████████████████████████████████| Time: 0:00:16\u001b[39m\n"
     ]
    },
    {
     "data": {
      "text/plain": [
       "Chains MCMC chain (1000×11×1 Array{Float64, 3}):\n",
       "\n",
       "Iterations        = 1:1:1000\n",
       "Number of chains  = 1\n",
       "Samples per chain = 1000\n",
       "parameters        = eta, l\n",
       "internals         = acceptance_rate, hamiltonian_energy, hamiltonian_energy_error, is_accept, log_density, lp, n_steps, nom_step_size, step_size\n",
       "\n",
       "Summary Statistics\n",
       " \u001b[1m parameters \u001b[0m \u001b[1m    mean \u001b[0m \u001b[1m     std \u001b[0m \u001b[1m naive_se \u001b[0m \u001b[1m    mcse \u001b[0m \u001b[1m      ess \u001b[0m \u001b[1m    rhat \u001b[0m\n",
       " \u001b[90m     Symbol \u001b[0m \u001b[90m Float64 \u001b[0m \u001b[90m Float64 \u001b[0m \u001b[90m  Float64 \u001b[0m \u001b[90m Float64 \u001b[0m \u001b[90m  Float64 \u001b[0m \u001b[90m Float64 \u001b[0m\n",
       "\n",
       "         eta    0.0582    0.0959     0.0030    0.0098   151.9669    1.0008\n",
       "           l    1.1618    0.7118     0.0225    0.0984    50.5360    1.0152\n",
       "\n",
       "Quantiles\n",
       " \u001b[1m parameters \u001b[0m \u001b[1m    2.5% \u001b[0m \u001b[1m   25.0% \u001b[0m \u001b[1m   50.0% \u001b[0m \u001b[1m   75.0% \u001b[0m \u001b[1m   97.5% \u001b[0m\n",
       " \u001b[90m     Symbol \u001b[0m \u001b[90m Float64 \u001b[0m \u001b[90m Float64 \u001b[0m \u001b[90m Float64 \u001b[0m \u001b[90m Float64 \u001b[0m \u001b[90m Float64 \u001b[0m\n",
       "\n",
       "         eta    0.0036    0.0113    0.0246    0.0627    0.3392\n",
       "           l    0.2174    0.6130    0.9917    1.5608    2.8445\n"
      ]
     },
     "execution_count": 6,
     "metadata": {},
     "output_type": "execute_result"
    },
    {
     "name": "stderr",
     "output_type": "stream",
     "text": [
      "┌ Warning: timestamp of type Missing unknown\n",
      "└ @ MCMCChains /home/jaime/.julia/packages/MCMCChains/kWf0l/src/chains.jl:364\n",
      "┌ Warning: timestamp of type Missing unknown\n",
      "└ @ MCMCChains /home/jaime/.julia/packages/MCMCChains/kWf0l/src/chains.jl:364\n"
     ]
    }
   ],
   "source": [
    "chain = sample(marginal_GP(data, data_x), HMC(0.01, 100), 1000)"
   ]
  },
  {
   "cell_type": "code",
   "execution_count": 7,
   "id": "1f5a9377",
   "metadata": {},
   "outputs": [],
   "source": [
    "etas = group(chain, :eta).value.data[:, :, 1]\n",
    "ls = group(chain, :l).value.data[:, :, 1];"
   ]
  },
  {
   "cell_type": "code",
   "execution_count": 9,
   "id": "7978ea37",
   "metadata": {},
   "outputs": [],
   "source": [
    "mean_old = cosmology.Dz(vec(data_x))\n",
    "mean_new = cosmology.Dz(vec(gp_x))\n",
    "\n",
    "gp_predict = posterior_predict(gp_x, data_x, mean_new, mean_old, data,\n",
    "                                sqexp_cov_fn; data_cov=data_cov)\n",
    "ynew = [gp_predict(eta=etas[m], l=ls[m]) for m in 1:length(etas)]\n",
    "ynew = hcat(ynew...);"
   ]
  },
  {
   "cell_type": "code",
   "execution_count": 10,
   "id": "fbaa3cd0",
   "metadata": {},
   "outputs": [],
   "source": [
    "pred_mean = mean(ynew, dims=2)\n",
    "pred_std = std(ynew, dims=2);"
   ]
  },
  {
   "cell_type": "code",
   "execution_count": 11,
   "id": "c7274400",
   "metadata": {},
   "outputs": [
    {
     "data": {
      "image/png": "[encoded data removed]",
      "text/plain": [
       "Figure(PyObject <Figure size 640x480 with 1 Axes>)"
      ]
     },
     "metadata": {},
     "output_type": "display_data"
    }
   ],
   "source": [
    "plt.errorbar(vec(data_x), data, yerr=data_err, fmt=\"bo\", label=\"Data\")\n",
    "plt.plot(vec(gp_x), vec(pred_mean), color=\"red\",\n",
    "         label=\"Posterior prediction\")\n",
    "plt.fill_between(vec(gp_x), vec(pred_mean .+ pred_std),\n",
    "                 vec(pred_mean .- pred_std), color=\"red\",\n",
    "                 alpha=0.2)\n",
    "plt.plot(gp_x, cosmology.Dz(gp_x) .* ones(gp_N), \"k--\", label=\"LCDM\")\n",
    "plt.xlabel(\"z\")\n",
    "plt.ylabel(\"D(z)\")\n",
    "plt.title(\"Marginal Lkl GP\")\n",
    "plt.legend()\n",
    "#plt.legend(loc=\"lower right\")\n",
    "#plt.title(\"GP Posterior predictive with 95% credible interval\");"
   ]
  },
  {
   "cell_type": "code",
   "execution_count": null,
   "id": "bd3734a2",
   "metadata": {},
   "outputs": [],
   "source": []
  }
 ],
 "metadata": {
  "kernelspec": {
   "display_name": "Julia 4 Threads 1.7.0",
   "language": "julia",
   "name": "julia-4-threads-1.7"
  },
  "language_info": {
   "file_extension": ".jl",
   "mimetype": "application/julia",
   "name": "julia",
   "version": "1.7.0"
  }
 },
 "nbformat": 4,
 "nbformat_minor": 5
}
